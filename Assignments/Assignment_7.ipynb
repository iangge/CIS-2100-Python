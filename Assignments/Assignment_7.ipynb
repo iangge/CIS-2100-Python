{
  "nbformat": 4,
  "nbformat_minor": 0,
  "metadata": {
    "kernelspec": {
      "display_name": "Python 3",
      "language": "python",
      "name": "python3"
    },
    "language_info": {
      "codemirror_mode": {
        "name": "ipython",
        "version": 3
      },
      "file_extension": ".py",
      "mimetype": "text/x-python",
      "name": "python",
      "nbconvert_exporter": "python",
      "pygments_lexer": "ipython3",
      "version": "3.6.5"
    },
    "colab": {
      "provenance": []
    }
  },
  "cells": [
    {
      "cell_type": "markdown",
      "metadata": {
        "id": "9eeTegdWhSeQ"
      },
      "source": [
        "# CIS 2100 - Programming Foundation for Business Analytics\n",
        "# Dr. Marjan Orang\n",
        "# Assignment 7 - Classes and Objects"
      ]
    },
    {
      "cell_type": "markdown",
      "metadata": {
        "id": "SxWw1ihchSeo"
      },
      "source": [
        "1. Write a class named Square that represents the square shape. The class has one attribute named side which is the length of each side. The constructor accepts one parameter which is the length of the side and sets the side attribute accordingly. There will be 2 class methods. One method named perimeter returns the perimeter and the second one named area returns the area of the square."
      ]
    },
    {
      "cell_type": "code",
      "metadata": {
        "id": "G7DdhEA5hSes"
      },
      "source": [
        "class Square:\n",
        "    def __init__(self, side):\n",
        "        self.side = side\n",
        "\n",
        "    def perimeter(self):\n",
        "        return 4 * self.side\n",
        "\n",
        "    def area(self):\n",
        "        return self.side ** 2"
      ],
      "execution_count": 1,
      "outputs": []
    },
    {
      "cell_type": "markdown",
      "metadata": {
        "id": "efNGaHZvhSev"
      },
      "source": [
        "Create an instance of Square below."
      ]
    },
    {
      "cell_type": "code",
      "metadata": {
        "id": "sliRt_BBhSex"
      },
      "source": [
        "Square1 = Square(5)"
      ],
      "execution_count": 2,
      "outputs": []
    },
    {
      "cell_type": "markdown",
      "metadata": {
        "id": "kEi3bqjWhSex"
      },
      "source": [
        "Call the perimeter method of the object you created in previous step below."
      ]
    },
    {
      "cell_type": "code",
      "metadata": {
        "id": "9nE3nVMmhSez",
        "colab": {
          "base_uri": "https://localhost:8080/"
        },
        "outputId": "3442baa8-aec7-4ed0-a6e4-cfc6a36dc939"
      },
      "source": [
        "perimeter = Square1.perimeter()\n",
        "print(perimeter)"
      ],
      "execution_count": 3,
      "outputs": [
        {
          "output_type": "stream",
          "name": "stdout",
          "text": [
            "20\n"
          ]
        }
      ]
    },
    {
      "cell_type": "markdown",
      "metadata": {
        "id": "x517UTPShSe0"
      },
      "source": [
        "Call the area method of the object you created in previous step below."
      ]
    },
    {
      "cell_type": "code",
      "metadata": {
        "id": "CojSK6bfhSe2",
        "colab": {
          "base_uri": "https://localhost:8080/"
        },
        "outputId": "5a144bd2-1ed8-4789-b77d-7a881512b001"
      },
      "source": [
        "area = Square1.area()\n",
        "print(area)"
      ],
      "execution_count": 4,
      "outputs": [
        {
          "output_type": "stream",
          "name": "stdout",
          "text": [
            "25\n"
          ]
        }
      ]
    },
    {
      "cell_type": "markdown",
      "metadata": {
        "id": "dJpPo6B-hSe3"
      },
      "source": [
        "2. Write a class named Rectangle that represents the rectangle shape. The class has 2 attributes named width and length. The constructor accepts 2 parameters representing width and length and sets the corrosponding attributes accordingly. Use zero as the default value for both parameters. There will be 2 class methods. One method named perimeter returns the perimeter and the second one named area returns the area of the rectangle."
      ]
    },
    {
      "cell_type": "code",
      "metadata": {
        "id": "5jEay3ZThSe4"
      },
      "source": [
        "class Rectangle:\n",
        "  def __init__(self, width=0, length=0):\n",
        "    self.width = width\n",
        "    self.length = length\n",
        "\n",
        "  def perimeter(self):\n",
        "    self.perimeter = 2 * (self.width + self.length)\n",
        "    return self.perimeter\n",
        "\n",
        "  def area(self):\n",
        "    self.area = self.width * self.length\n",
        "    return self.area"
      ],
      "execution_count": 6,
      "outputs": []
    },
    {
      "cell_type": "markdown",
      "metadata": {
        "id": "01bsXr-ShSe5"
      },
      "source": [
        "Create an instance of Rectangle below."
      ]
    },
    {
      "cell_type": "code",
      "metadata": {
        "id": "k6ETfPZmhSe6"
      },
      "source": [
        "Rectangle1 = Rectangle(5, 10)"
      ],
      "execution_count": 7,
      "outputs": []
    },
    {
      "cell_type": "markdown",
      "metadata": {
        "id": "VVfuj56OhSe6"
      },
      "source": [
        "Call the perimeter method of the object you created in previous step below."
      ]
    },
    {
      "cell_type": "code",
      "metadata": {
        "id": "EjHAqjrrhSe7",
        "colab": {
          "base_uri": "https://localhost:8080/"
        },
        "outputId": "c1af40f6-86f9-403a-d450-d97e9fcb682e"
      },
      "source": [
        "Rectangle1.perimeter()"
      ],
      "execution_count": 8,
      "outputs": [
        {
          "output_type": "execute_result",
          "data": {
            "text/plain": [
              "30"
            ]
          },
          "metadata": {},
          "execution_count": 8
        }
      ]
    },
    {
      "cell_type": "markdown",
      "metadata": {
        "id": "GWAGJ5YchSe8"
      },
      "source": [
        "Call the area method of the object you created in previous step below."
      ]
    },
    {
      "cell_type": "code",
      "metadata": {
        "id": "-Wparn7zhSe9",
        "colab": {
          "base_uri": "https://localhost:8080/"
        },
        "outputId": "ff8c0e9f-c772-4ebb-d4d2-d478c16f1d83"
      },
      "source": [
        "Rectangle1.area()"
      ],
      "execution_count": 9,
      "outputs": [
        {
          "output_type": "execute_result",
          "data": {
            "text/plain": [
              "50"
            ]
          },
          "metadata": {},
          "execution_count": 9
        }
      ]
    }
  ]
}