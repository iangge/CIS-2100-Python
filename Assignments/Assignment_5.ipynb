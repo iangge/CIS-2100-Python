{
  "nbformat": 4,
  "nbformat_minor": 0,
  "metadata": {
    "kernelspec": {
      "display_name": "Python 3",
      "language": "python",
      "name": "python3"
    },
    "language_info": {
      "codemirror_mode": {
        "name": "ipython",
        "version": 3
      },
      "file_extension": ".py",
      "mimetype": "text/x-python",
      "name": "python",
      "nbconvert_exporter": "python",
      "pygments_lexer": "ipython3",
      "version": "3.6.5"
    },
    "colab": {
      "provenance": []
    }
  },
  "cells": [
    {
      "cell_type": "markdown",
      "metadata": {
        "id": "wlBXKB75gaPq"
      },
      "source": [
        "# CIS 2100 - Programming Foundation for Business Analytics\n",
        "# Dr. Marjan Orang\n",
        "# Assignment 5: Lists"
      ]
    },
    {
      "cell_type": "markdown",
      "metadata": {
        "id": "Rd2312KWgaQT"
      },
      "source": [
        "1. Write a function called nested_sum that takes a list of lists of integers and adds up the elements from all of the nested lists. For example for t = [[1, 2], [3], [4, 5, 6]], nested_sum(t) should return  21."
      ]
    },
    {
      "cell_type": "code",
      "metadata": {
        "id": "v_DzSq9VgaQY",
        "colab": {
          "base_uri": "https://localhost:8080/"
        },
        "outputId": "3995be3b-31ed-4292-f651-f56ab64230c3"
      },
      "source": [
        "def nested_sum(t):\n",
        "    total = 0\n",
        "    for i in t:\n",
        "        total += sum(i)\n",
        "    return total\n",
        "\n",
        "nested_sum([[1, 2], [3], [4, 5, 6]])"
      ],
      "execution_count": 3,
      "outputs": [
        {
          "output_type": "execute_result",
          "data": {
            "text/plain": [
              "21"
            ]
          },
          "metadata": {},
          "execution_count": 3
        }
      ]
    },
    {
      "cell_type": "markdown",
      "metadata": {
        "id": "8uPhTArSgaQe"
      },
      "source": [
        "2. Write a function called cumsum that takes a list of numbers and returns the cumulative sum; that is, a new list where the ith element is the sum of the first i + 1 elements from the original list. For example for t = [1, 2, 3], cumsum(t) should return [1, 3, 6]."
      ]
    },
    {
      "cell_type": "code",
      "metadata": {
        "id": "YLJRdEBjgaQh",
        "colab": {
          "base_uri": "https://localhost:8080/"
        },
        "outputId": "ef383b83-ee52-4228-c4a6-74fa2add8402"
      },
      "source": [
        "def cumsum(t):\n",
        "  total = 0\n",
        "  res = []\n",
        "  for i in t:\n",
        "    total += i\n",
        "    res.append(total)\n",
        "  return res\n",
        "\n",
        "cumsum([1, 2, 3])"
      ],
      "execution_count": 4,
      "outputs": [
        {
          "output_type": "execute_result",
          "data": {
            "text/plain": [
              "[1, 3, 6]"
            ]
          },
          "metadata": {},
          "execution_count": 4
        }
      ]
    },
    {
      "cell_type": "markdown",
      "metadata": {
        "id": "bsaVF9elgaQi"
      },
      "source": [
        "3. Write a function called middle that takes a list and returns a new list that contains all but the first and last elements. For example for t = [1, 2, 3, 4], middle(t) should return [2, 3]."
      ]
    },
    {
      "cell_type": "code",
      "metadata": {
        "id": "H4RJWKN5gaQl",
        "colab": {
          "base_uri": "https://localhost:8080/"
        },
        "outputId": "fd3e56b0-e49f-44fb-c30d-d0609086c7a0"
      },
      "source": [
        "def middle(t):\n",
        "  res = []\n",
        "  for i in range(1, len(t)-1):\n",
        "    res.append(t[i])\n",
        "  return res\n",
        "\n",
        "middle([1, 2, 3, 4])"
      ],
      "execution_count": 7,
      "outputs": [
        {
          "output_type": "execute_result",
          "data": {
            "text/plain": [
              "[2, 3]"
            ]
          },
          "metadata": {},
          "execution_count": 7
        }
      ]
    },
    {
      "cell_type": "markdown",
      "metadata": {
        "id": "1qpZdCM_gaQn"
      },
      "source": [
        "4. Write a function called is_sorted that takes a list as a parameter and returns True\n",
        "if the list is sorted in ascending order and False otherwise. For example, is_sorted([1, 2, 2]) should return True\n",
        "and is_sorted(['b', 'a']) should return False.<br>\n",
        "Tip: you can compare string the same way you compare number. For example 'a'>'b' is True and 'b'>'a' is False."
      ]
    },
    {
      "cell_type": "code",
      "metadata": {
        "id": "tMeFrFJNgaQq",
        "colab": {
          "base_uri": "https://localhost:8080/"
        },
        "outputId": "b30484da-e05f-41b5-efee-6030328b335a"
      },
      "source": [
        "#example\n",
        "print('a'>'b')\n",
        "print('b'>'a')"
      ],
      "execution_count": 8,
      "outputs": [
        {
          "output_type": "stream",
          "name": "stdout",
          "text": [
            "False\n",
            "True\n"
          ]
        }
      ]
    },
    {
      "cell_type": "code",
      "metadata": {
        "id": "vOEyqgNqgaQw",
        "colab": {
          "base_uri": "https://localhost:8080/"
        },
        "outputId": "eef76f82-9db0-42fa-ce60-16b4ec632622"
      },
      "source": [
        "def is_sorted(t):\n",
        "  for i in range(len(t)-1):\n",
        "    if t[i] > t[i+1]:\n",
        "      return False\n",
        "  return True\n",
        "\n",
        "print(is_sorted([1, 2, 2]))\n",
        "print(is_sorted(['b', 'a']))"
      ],
      "execution_count": 9,
      "outputs": [
        {
          "output_type": "stream",
          "name": "stdout",
          "text": [
            "True\n",
            "False\n"
          ]
        }
      ]
    },
    {
      "cell_type": "markdown",
      "metadata": {
        "id": "dNWkTIj7gaQx"
      },
      "source": [
        "5. Write a function called has_duplicates that takes a list and returns True if there is any element that appears more than once. It should not modify the original list.<br>\n",
        "Tip: check out list.index(x). It returns zero-based index in the list of the first item whose value is equal to x. it raises a ValueError if there is no such item."
      ]
    },
    {
      "cell_type": "code",
      "metadata": {
        "id": "Cn0usziCgaQy",
        "colab": {
          "base_uri": "https://localhost:8080/"
        },
        "outputId": "5fe818b9-7fca-41d2-ee25-29b795a19b53"
      },
      "source": [
        "x = ['a', 'b', 'c', 'd', 'e']\n",
        "x.index('c')"
      ],
      "execution_count": 10,
      "outputs": [
        {
          "output_type": "execute_result",
          "data": {
            "text/plain": [
              "2"
            ]
          },
          "metadata": {},
          "execution_count": 10
        }
      ]
    },
    {
      "cell_type": "code",
      "metadata": {
        "id": "PqNGIEurgaQ0",
        "colab": {
          "base_uri": "https://localhost:8080/"
        },
        "outputId": "db2fc893-955a-4455-d5a3-4e76d5164c80"
      },
      "source": [
        "def has_duplicates(t):\n",
        "  for i in range(len(t)):\n",
        "    for j in range(i+1, len(t)):\n",
        "      if t[i] == t[j]:\n",
        "        return True\n",
        "  return False\n",
        "\n",
        "print(has_duplicates([1, 2, 2]))\n",
        "print(has_duplicates(['b', 'a', 'c', 'd', 'e']))"
      ],
      "execution_count": 14,
      "outputs": [
        {
          "output_type": "stream",
          "name": "stdout",
          "text": [
            "True\n",
            "False\n"
          ]
        }
      ]
    },
    {
      "cell_type": "markdown",
      "metadata": {
        "id": "FxeuKkvJgaQ1"
      },
      "source": [
        "6. Write a function that calculates the median value of a list of numbers. In a sorted list, the median is the middle element if the number of elements is odd, otherwise it would be the average of the 2 middle elements. For example, the median of [1,2,3,4,5] is 3 and the median for [1,2,3,4,5,6] is the avergae of 3 and 4 which is 3.5. Note that the input list may not be necessarily sorted so you need to sort it first.<br> Optional: The functions should not sort the original list. Instead, work with a sorted copy."
      ]
    },
    {
      "cell_type": "code",
      "metadata": {
        "id": "Q-1x9X4vgaQ1",
        "colab": {
          "base_uri": "https://localhost:8080/"
        },
        "outputId": "c8d91eb0-4444-4967-d7d2-f2cb79cbba78"
      },
      "source": [
        "def sorted_med_val(t):\n",
        "  t.sort()\n",
        "  if len(t) % 2 == 0:\n",
        "    return (t[len(t)//2] + t[len(t)//2 - 1]) / 2\n",
        "  else:\n",
        "    return t[len(t)//2]\n",
        "\n",
        "print(sorted_med_val([1,2,3,4,5]))\n",
        "print(sorted_med_val([1,2,3,4,5,6]))"
      ],
      "execution_count": 15,
      "outputs": [
        {
          "output_type": "stream",
          "name": "stdout",
          "text": [
            "3\n",
            "3.5\n"
          ]
        }
      ]
    },
    {
      "cell_type": "markdown",
      "metadata": {
        "id": "4YLGwCX_gaQ3"
      },
      "source": [
        "7. (Optional) Write a function called chop that takes a list, modifies it by removing the first and last elements, and returns None. For example, for t = [1, 2, 3, 4], after calling chop(t), t would be [2, 3]. Please note that the function does not return anything. Instead, it modifies the object passed to it as parameter."
      ]
    },
    {
      "cell_type": "code",
      "metadata": {
        "id": "wt8IgLCOgaQ4",
        "colab": {
          "base_uri": "https://localhost:8080/"
        },
        "outputId": "4ae576b7-fa50-43d7-cf7c-1349c9abd31e"
      },
      "source": [
        "def chop(t):\n",
        "  t.pop(0)\n",
        "  t.pop(-1)\n",
        "  return None\n",
        "\n",
        "t = [1, 2, 3, 4]\n",
        "chop(t)\n",
        "print(t)\n"
      ],
      "execution_count": 16,
      "outputs": [
        {
          "output_type": "stream",
          "name": "stdout",
          "text": [
            "[2, 3]\n"
          ]
        }
      ]
    }
  ]
}