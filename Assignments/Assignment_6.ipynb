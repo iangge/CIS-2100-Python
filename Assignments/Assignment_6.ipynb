{
  "nbformat": 4,
  "nbformat_minor": 0,
  "metadata": {
    "kernelspec": {
      "display_name": "Python 3",
      "language": "python",
      "name": "python3"
    },
    "language_info": {
      "codemirror_mode": {
        "name": "ipython",
        "version": 3
      },
      "file_extension": ".py",
      "mimetype": "text/x-python",
      "name": "python",
      "nbconvert_exporter": "python",
      "pygments_lexer": "ipython3",
      "version": "3.6.5"
    },
    "colab": {
      "provenance": []
    }
  },
  "cells": [
    {
      "cell_type": "markdown",
      "metadata": {
        "id": "2mT6trrpg1hr"
      },
      "source": [
        "# CIS 2100 - Programming Foundation for Business Analytics\n",
        "# Dr. Marjan Orang\n",
        "# Assignment 6 - Strings, Dictionaries, and Tuples"
      ]
    },
    {
      "cell_type": "markdown",
      "metadata": {
        "id": "8IYkr7Mtg1iR"
      },
      "source": [
        "1. Write a function called capital which accepts a string and returns the same string after capitalizing the first letter. For example, if the parameter is 'banana', it will return 'Banana'."
      ]
    },
    {
      "cell_type": "code",
      "metadata": {
        "id": "nhLcuZTdg1iW",
        "colab": {
          "base_uri": "https://localhost:8080/",
          "height": 35
        },
        "outputId": "7e7c6265-7c74-4747-94c9-f9b0ac7c4683"
      },
      "source": [
        "def capital(string):\n",
        "  return string.capitalize()\n",
        "\n",
        "capital('banana')"
      ],
      "execution_count": 1,
      "outputs": [
        {
          "output_type": "execute_result",
          "data": {
            "text/plain": [
              "'Banana'"
            ],
            "application/vnd.google.colaboratory.intrinsic+json": {
              "type": "string"
            }
          },
          "metadata": {},
          "execution_count": 1
        }
      ]
    },
    {
      "cell_type": "markdown",
      "metadata": {
        "id": "NadPoY53g1iZ"
      },
      "source": [
        "2. Write a function called count_As that returns the number of a's in a string. For example, for 'banana', it will return 3."
      ]
    },
    {
      "cell_type": "code",
      "metadata": {
        "id": "LoSI7M8Tg1ic",
        "colab": {
          "base_uri": "https://localhost:8080/"
        },
        "outputId": "4e30b73d-fb83-4d48-8e6e-af68183ad63f"
      },
      "source": [
        "def count_As(string):\n",
        "  return string.count('a')\n",
        "\n",
        "count_As('banana')"
      ],
      "execution_count": 2,
      "outputs": [
        {
          "output_type": "execute_result",
          "data": {
            "text/plain": [
              "3"
            ]
          },
          "metadata": {},
          "execution_count": 2
        }
      ]
    },
    {
      "cell_type": "markdown",
      "metadata": {
        "id": "pO1tSUnrg1id"
      },
      "source": [
        "3. Write a function called print_evens that accepts a dictionary as parameter and prints key-values where the value is divisible by 2. For example, if dictionary={'a':2, 'b':3, 'c':4, 'd':5} it will print a 2 and c 4."
      ]
    },
    {
      "cell_type": "code",
      "metadata": {
        "id": "Kn1YFqLTg1if",
        "colab": {
          "base_uri": "https://localhost:8080/"
        },
        "outputId": "e97c6a62-274c-420b-9f9f-4be95a4198a6"
      },
      "source": [
        "def print_evens(dictionary):\n",
        "  for key, value in dictionary.items():\n",
        "    if value % 2 == 0:\n",
        "      print(key, value)\n",
        "\n",
        "print_evens({'a':2, 'b':3, 'c':4, 'd':5})"
      ],
      "execution_count": 4,
      "outputs": [
        {
          "output_type": "stream",
          "name": "stdout",
          "text": [
            "a 2\n",
            "c 4\n"
          ]
        }
      ]
    },
    {
      "cell_type": "markdown",
      "metadata": {
        "id": "-wvNwgMJg1ig"
      },
      "source": [
        "4. Write a function called double_dict that takes a dictionary and mutiplies all the values (not keys) by 2. For example, given dictionary={'a':2, 'b':3, 'c':4, 'd':5}, after running the function dictionary would be {'a':4, 'b':6, 'c':8, 'd':10}."
      ]
    },
    {
      "cell_type": "code",
      "metadata": {
        "id": "zOII1N2cg1ih",
        "colab": {
          "base_uri": "https://localhost:8080/"
        },
        "outputId": "61afa966-48d7-4047-e892-224e89b459df"
      },
      "source": [
        "def double_dict(dictionary):\n",
        "  for key, value in dictionary.items():\n",
        "    dictionary[key] = value * 2\n",
        "  return dictionary\n",
        "\n",
        "double_dict({'a':2, 'b':3, 'c':4, 'd':5})"
      ],
      "execution_count": 5,
      "outputs": [
        {
          "output_type": "execute_result",
          "data": {
            "text/plain": [
              "{'a': 4, 'b': 6, 'c': 8, 'd': 10}"
            ]
          },
          "metadata": {},
          "execution_count": 5
        }
      ]
    },
    {
      "cell_type": "markdown",
      "metadata": {
        "id": "oT_F5HFcg1ik"
      },
      "source": [
        "5. Write a function named product that calculates the product of all elements in a tuple. For example, for (2,3,4) the result would be 2x3x4=24. The function will not generate '2x3x4' as a string. It will return a single number which is 24 in this example."
      ]
    },
    {
      "cell_type": "code",
      "metadata": {
        "id": "73-4udNVg1il",
        "colab": {
          "base_uri": "https://localhost:8080/"
        },
        "outputId": "c6624195-1a5a-4d64-c740-df2ebe1aecf3"
      },
      "source": [
        "def product(tuple):\n",
        "  total = 1\n",
        "  for i in tuple:\n",
        "    total *= i\n",
        "  return total\n",
        "\n",
        "product((2,3,4))"
      ],
      "execution_count": 8,
      "outputs": [
        {
          "output_type": "execute_result",
          "data": {
            "text/plain": [
              "24"
            ]
          },
          "metadata": {},
          "execution_count": 8
        }
      ]
    }
  ]
}