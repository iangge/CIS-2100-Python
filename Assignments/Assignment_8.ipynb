{
  "nbformat": 4,
  "nbformat_minor": 0,
  "metadata": {
    "kernelspec": {
      "display_name": "Python 3",
      "language": "python",
      "name": "python3"
    },
    "language_info": {
      "codemirror_mode": {
        "name": "ipython",
        "version": 3
      },
      "file_extension": ".py",
      "mimetype": "text/x-python",
      "name": "python",
      "nbconvert_exporter": "python",
      "pygments_lexer": "ipython3",
      "version": "3.6.5"
    },
    "colab": {
      "provenance": [],
      "include_colab_link": true
    }
  },
  "cells": [
    {
      "cell_type": "markdown",
      "metadata": {
        "id": "view-in-github",
        "colab_type": "text"
      },
      "source": [
        "<a href=\"https://colab.research.google.com/github/iangge/CIS-2100-Python/blob/main/Assignments/Assignment_8.ipynb\" target=\"_parent\"><img src=\"https://colab.research.google.com/assets/colab-badge.svg\" alt=\"Open In Colab\"/></a>"
      ]
    },
    {
      "cell_type": "markdown",
      "metadata": {
        "id": "8eGA6Xwi6WGJ"
      },
      "source": [
        "# CIS2100 - Programming Foundation for Business Analytics\n",
        "# Dr. Marjan Orang\n",
        "# Assignment 8 - Multidimensioal Arrays\n",
        "Runt the cell below to set up your notebook. Each cell should start with np.random.seed(0) to make the results consistent for all students."
      ]
    },
    {
      "cell_type": "code",
      "metadata": {
        "id": "6AICx0Yy6WGW"
      },
      "source": [
        "import numpy as np\n",
        "np.random.seed(0)"
      ],
      "execution_count": 1,
      "outputs": []
    },
    {
      "cell_type": "markdown",
      "metadata": {
        "id": "tA8pggoZ6WGZ"
      },
      "source": [
        "1. Create a 4x4 array that contains numbers 1-16."
      ]
    },
    {
      "cell_type": "code",
      "metadata": {
        "id": "_ugSVVdJ6WGa",
        "outputId": "e91e11da-7727-4e19-c35a-d6340a7d1870",
        "colab": {
          "base_uri": "https://localhost:8080/"
        }
      },
      "source": [
        "np.random.seed(0)\n",
        "array_4x4 = np.arange(1,17).reshape(4,4)\n",
        "array_4x4"
      ],
      "execution_count": 4,
      "outputs": [
        {
          "output_type": "execute_result",
          "data": {
            "text/plain": [
              "array([[ 1,  2,  3,  4],\n",
              "       [ 5,  6,  7,  8],\n",
              "       [ 9, 10, 11, 12],\n",
              "       [13, 14, 15, 16]])"
            ]
          },
          "metadata": {},
          "execution_count": 4
        }
      ]
    },
    {
      "cell_type": "markdown",
      "metadata": {
        "id": "PGgOyJb_6WGc"
      },
      "source": [
        "2. Create 2 random 4x3 arrays and calculate the sum of their crrosponding elements. Use vectorization for sum calculation."
      ]
    },
    {
      "cell_type": "code",
      "metadata": {
        "id": "SgCkeHhL6WGd",
        "outputId": "64380aec-602c-4537-9ba2-462776e935c0",
        "colab": {
          "base_uri": "https://localhost:8080/"
        }
      },
      "source": [
        "np.random.seed(0)\n",
        "array1 = np.random.rand(4, 3)\n",
        "array2 = np.random.rand(4, 3)\n",
        "\n",
        "sum_array = array1 + array2\n",
        "\n",
        "print(\"Array 1\\n\", array1)\n",
        "print(\"Array 2\\n\", array2)\n",
        "print(\"Sum Array\\n\", sum_array)\n"
      ],
      "execution_count": 12,
      "outputs": [
        {
          "output_type": "stream",
          "name": "stdout",
          "text": [
            "Array 1\n",
            " [[0.5488135  0.71518937 0.60276338]\n",
            " [0.54488318 0.4236548  0.64589411]\n",
            " [0.43758721 0.891773   0.96366276]\n",
            " [0.38344152 0.79172504 0.52889492]]\n",
            "Array 2\n",
            " [[0.56804456 0.92559664 0.07103606]\n",
            " [0.0871293  0.0202184  0.83261985]\n",
            " [0.77815675 0.87001215 0.97861834]\n",
            " [0.79915856 0.46147936 0.78052918]]\n",
            "Sum Array\n",
            " [[1.11685807 1.640786   0.67379943]\n",
            " [0.63201248 0.4438732  1.47851396]\n",
            " [1.21574396 1.76178515 1.9422811 ]\n",
            " [1.18260008 1.2532044  1.3094241 ]]\n"
          ]
        }
      ]
    },
    {
      "cell_type": "markdown",
      "metadata": {
        "id": "-qmFdb3b6WGe"
      },
      "source": [
        "3. Create 2 normally distributed (mean=0, std_dev=1) random 10x5 arrays, stack them vertically, then calculate the average of each column. Use vectorization."
      ]
    },
    {
      "cell_type": "code",
      "metadata": {
        "id": "aK7WAYG16WGf",
        "outputId": "4dbb7812-3bd8-4d13-cea6-3e5a926f59af",
        "colab": {
          "base_uri": "https://localhost:8080/"
        }
      },
      "source": [
        "np.random.seed(0)\n",
        "array1 = np.random.normal(0, 1, size=(10, 5))\n",
        "array2 = np.random.normal(0, 1, size=(10, 5))\n",
        "\n",
        "stacked_array = np.vstack((array1, array2))\n",
        "column_averages = np.mean(stacked_array, axis=0)\n",
        "\n",
        "print(\"Stacked Array:\\n\", stacked_array)\n",
        "print(\"\\nColumn Averages:\\n\", column_averages)"
      ],
      "execution_count": 13,
      "outputs": [
        {
          "output_type": "stream",
          "name": "stdout",
          "text": [
            "Stacked Array:\n",
            " [[ 1.76405235  0.40015721  0.97873798  2.2408932   1.86755799]\n",
            " [-0.97727788  0.95008842 -0.15135721 -0.10321885  0.4105985 ]\n",
            " [ 0.14404357  1.45427351  0.76103773  0.12167502  0.44386323]\n",
            " [ 0.33367433  1.49407907 -0.20515826  0.3130677  -0.85409574]\n",
            " [-2.55298982  0.6536186   0.8644362  -0.74216502  2.26975462]\n",
            " [-1.45436567  0.04575852 -0.18718385  1.53277921  1.46935877]\n",
            " [ 0.15494743  0.37816252 -0.88778575 -1.98079647 -0.34791215]\n",
            " [ 0.15634897  1.23029068  1.20237985 -0.38732682 -0.30230275]\n",
            " [-1.04855297 -1.42001794 -1.70627019  1.9507754  -0.50965218]\n",
            " [-0.4380743  -1.25279536  0.77749036 -1.61389785 -0.21274028]\n",
            " [-0.89546656  0.3869025  -0.51080514 -1.18063218 -0.02818223]\n",
            " [ 0.42833187  0.06651722  0.3024719  -0.63432209 -0.36274117]\n",
            " [-0.67246045 -0.35955316 -0.81314628 -1.7262826   0.17742614]\n",
            " [-0.40178094 -1.63019835  0.46278226 -0.90729836  0.0519454 ]\n",
            " [ 0.72909056  0.12898291  1.13940068 -1.23482582  0.40234164]\n",
            " [-0.68481009 -0.87079715 -0.57884966 -0.31155253  0.05616534]\n",
            " [-1.16514984  0.90082649  0.46566244 -1.53624369  1.48825219]\n",
            " [ 1.89588918  1.17877957 -0.17992484 -1.07075262  1.05445173]\n",
            " [-0.40317695  1.22244507  0.20827498  0.97663904  0.3563664 ]\n",
            " [ 0.70657317  0.01050002  1.78587049  0.12691209  0.40198936]]\n",
            "\n",
            "Column Averages:\n",
            " [-0.2190577   0.24840102  0.18640318 -0.30832866  0.39162224]\n"
          ]
        }
      ]
    },
    {
      "cell_type": "markdown",
      "metadata": {
        "id": "bgIiYXqf6WGg"
      },
      "source": [
        "4. Create a normally distributed (mean=0, std_dev=1) random 10x5 array, then calculate the sum of the values in each row. Use vectorization."
      ]
    },
    {
      "cell_type": "code",
      "metadata": {
        "id": "a65nCsNI6WGh",
        "outputId": "a7e47e62-7ce0-4fc6-af4c-a84b0dde3cac",
        "colab": {
          "base_uri": "https://localhost:8080/"
        }
      },
      "source": [
        "np.random.seed(0)\n",
        "array1 = np.random.normal(0, 1, size=(10, 5))\n",
        "\n",
        "row_sums = np.sum(array1, axis=1)\n",
        "\n",
        "print(\"Array:\\n\", array1)\n",
        "print(\"\\nRow Sums:\\n\", row_sums)"
      ],
      "execution_count": 14,
      "outputs": [
        {
          "output_type": "stream",
          "name": "stdout",
          "text": [
            "Array:\n",
            " [[ 1.76405235  0.40015721  0.97873798  2.2408932   1.86755799]\n",
            " [-0.97727788  0.95008842 -0.15135721 -0.10321885  0.4105985 ]\n",
            " [ 0.14404357  1.45427351  0.76103773  0.12167502  0.44386323]\n",
            " [ 0.33367433  1.49407907 -0.20515826  0.3130677  -0.85409574]\n",
            " [-2.55298982  0.6536186   0.8644362  -0.74216502  2.26975462]\n",
            " [-1.45436567  0.04575852 -0.18718385  1.53277921  1.46935877]\n",
            " [ 0.15494743  0.37816252 -0.88778575 -1.98079647 -0.34791215]\n",
            " [ 0.15634897  1.23029068  1.20237985 -0.38732682 -0.30230275]\n",
            " [-1.04855297 -1.42001794 -1.70627019  1.9507754  -0.50965218]\n",
            " [-0.4380743  -1.25279536  0.77749036 -1.61389785 -0.21274028]]\n",
            "\n",
            "Row Sums:\n",
            " [ 7.25139873  0.12883298  2.92489305  1.0815671   0.49265458  1.40634698\n",
            " -2.68338442  1.89938993 -2.73371788 -2.74001743]\n"
          ]
        }
      ]
    },
    {
      "cell_type": "markdown",
      "metadata": {
        "id": "gfVhj3qv6WGi"
      },
      "source": [
        "5. Create a 5x3 array initialized with random integers 1-10, then reshape it to 3x5, and then calculate its sum (single number fo sum). Use vectorization."
      ]
    },
    {
      "cell_type": "code",
      "metadata": {
        "id": "G5U96VZ96WGj",
        "outputId": "731d15cd-6855-4f5a-d32c-8797791f77c0",
        "colab": {
          "base_uri": "https://localhost:8080/"
        }
      },
      "source": [
        "np.random.seed(0)\n",
        "array = np.random.randint(1, 11, size=(5, 3))\n",
        "reshaped_array = array.reshape(3, 5)\n",
        "sum_of_elements = np.sum(reshaped_array)\n",
        "print(\"Original Array:\\n\", array)\n",
        "print(\"\\nReshaped Array:\\n\", reshaped_array)\n",
        "print(\"\\nSum of Elements:\", sum_of_elements)"
      ],
      "execution_count": 16,
      "outputs": [
        {
          "output_type": "stream",
          "name": "stdout",
          "text": [
            "Original Array:\n",
            " [[ 6  1  4]\n",
            " [ 4  8 10]\n",
            " [ 4  6  3]\n",
            " [ 5  8  7]\n",
            " [ 9  9  2]]\n",
            "\n",
            "Reshaped Array:\n",
            " [[ 6  1  4  4  8]\n",
            " [10  4  6  3  5]\n",
            " [ 8  7  9  9  2]]\n",
            "\n",
            "Sum of Elements: 86\n"
          ]
        }
      ]
    },
    {
      "cell_type": "markdown",
      "metadata": {
        "id": "80q7kAoi6WGl"
      },
      "source": [
        "6. Create a 5x3 array initialized with random integers 1-10, then multiply each value by 2. Use vectorization."
      ]
    },
    {
      "cell_type": "code",
      "metadata": {
        "id": "JVNFZCka6WGn",
        "outputId": "8b051ecd-5283-42cb-b68f-804d7ffb3f9e",
        "colab": {
          "base_uri": "https://localhost:8080/"
        }
      },
      "source": [
        "np.random.seed(0)\n",
        "array = np.random.randint(1,11,size=(5,3))\n",
        "multiplied_array = array * 2\n",
        "print(\"Original Array:\\n\", array)\n",
        "print(\"\\nMultiplied Array:\\n\", multiplied_array)"
      ],
      "execution_count": 17,
      "outputs": [
        {
          "output_type": "stream",
          "name": "stdout",
          "text": [
            "Original Array:\n",
            " [[ 6  1  4]\n",
            " [ 4  8 10]\n",
            " [ 4  6  3]\n",
            " [ 5  8  7]\n",
            " [ 9  9  2]]\n",
            "\n",
            "Multiplied Array:\n",
            " [[12  2  8]\n",
            " [ 8 16 20]\n",
            " [ 8 12  6]\n",
            " [10 16 14]\n",
            " [18 18  4]]\n"
          ]
        }
      ]
    }
  ]
}