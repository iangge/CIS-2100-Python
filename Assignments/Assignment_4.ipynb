{
  "nbformat": 4,
  "nbformat_minor": 0,
  "metadata": {
    "kernelspec": {
      "display_name": "Python 3",
      "language": "python",
      "name": "python3"
    },
    "language_info": {
      "codemirror_mode": {
        "name": "ipython",
        "version": 3
      },
      "file_extension": ".py",
      "mimetype": "text/x-python",
      "name": "python",
      "nbconvert_exporter": "python",
      "pygments_lexer": "ipython3",
      "version": "3.6.5"
    },
    "colab": {
      "provenance": []
    }
  },
  "cells": [
    {
      "cell_type": "markdown",
      "metadata": {
        "id": "7ECoNNNhf1Ny"
      },
      "source": [
        "# CIS 2100 - Programming Foundation for Business Analytics\n",
        "# Dr. Marjan Orang\n",
        "# Assignment 4: Iteration"
      ]
    },
    {
      "cell_type": "markdown",
      "metadata": {
        "id": "s3iWzVwwf1N9"
      },
      "source": [
        "1. Write a program that prints the first 10 even numbers and their sum."
      ]
    },
    {
      "cell_type": "code",
      "metadata": {
        "id": "Bq-TrgB5f1N-",
        "colab": {
          "base_uri": "https://localhost:8080/"
        },
        "outputId": "af9f25ee-f5ac-4df1-9959-3da4e5e6487d"
      },
      "source": [
        "n = 0\n",
        "sum = 0\n",
        "\n",
        "while n < 10:\n",
        "  print(n)\n",
        "  n = n + 2\n",
        "  sum = sum + n\n",
        "\n",
        "\n",
        "print(sum)"
      ],
      "execution_count": null,
      "outputs": [
        {
          "output_type": "stream",
          "name": "stdout",
          "text": [
            "0\n",
            "2\n",
            "4\n",
            "6\n",
            "8\n",
            "30\n"
          ]
        }
      ]
    },
    {
      "cell_type": "markdown",
      "metadata": {
        "id": "vsv3UMCUf1OB"
      },
      "source": [
        "2. Write a function that calculates factorial (n). In mathematics it is is displayed as n!. Factorial is the product of an integer and all the integers below it; e.g. factorial four ( 4! ) is equal to 24 (4 * 3 * 2 * 1)."
      ]
    },
    {
      "cell_type": "code",
      "metadata": {
        "id": "0gEO_AiQf1OC",
        "colab": {
          "base_uri": "https://localhost:8080/"
        },
        "outputId": "8f22f3b0-32c3-4077-be3e-3ef404db5fbd"
      },
      "source": [
        "def factorial(n):\n",
        "  product = 1\n",
        "  i = 0\n",
        "\n",
        "  while i < n:\n",
        "    i += 1\n",
        "    product = product * i\n",
        "\n",
        "  return product\n",
        "\n",
        "factorial(4)"
      ],
      "execution_count": null,
      "outputs": [
        {
          "output_type": "execute_result",
          "data": {
            "text/plain": [
              "24"
            ]
          },
          "metadata": {},
          "execution_count": 5
        }
      ]
    },
    {
      "cell_type": "markdown",
      "metadata": {
        "id": "52JSkXmQf1OE"
      },
      "source": [
        "3. The built-in function eval takes a string and evaluates it using the Python interpreter.\n",
        "For example:"
      ]
    },
    {
      "cell_type": "code",
      "metadata": {
        "id": "rtOEr5knf1OF",
        "colab": {
          "base_uri": "https://localhost:8080/"
        },
        "outputId": "faa314e7-0fa4-4589-dda5-53cb126eae9e"
      },
      "source": [
        "eval('1 + 2 * 3')"
      ],
      "execution_count": null,
      "outputs": [
        {
          "output_type": "execute_result",
          "data": {
            "text/plain": [
              "7"
            ]
          },
          "metadata": {},
          "execution_count": 6
        }
      ]
    },
    {
      "cell_type": "code",
      "metadata": {
        "id": "9j_kEAbaf1OG",
        "colab": {
          "base_uri": "https://localhost:8080/"
        },
        "outputId": "f958471d-a19f-49f6-a257-725412264468"
      },
      "source": [
        "import math\n",
        "eval('math.sqrt(5)')"
      ],
      "execution_count": null,
      "outputs": [
        {
          "output_type": "execute_result",
          "data": {
            "text/plain": [
              "2.23606797749979"
            ]
          },
          "metadata": {},
          "execution_count": 7
        }
      ]
    },
    {
      "cell_type": "code",
      "metadata": {
        "id": "TtmNOQNKf1OH",
        "colab": {
          "base_uri": "https://localhost:8080/"
        },
        "outputId": "77a89d5c-61ae-4326-bbd3-061022ec6dbe"
      },
      "source": [
        "eval('type(math.pi)')"
      ],
      "execution_count": null,
      "outputs": [
        {
          "output_type": "execute_result",
          "data": {
            "text/plain": [
              "float"
            ]
          },
          "metadata": {},
          "execution_count": 8
        }
      ]
    },
    {
      "cell_type": "markdown",
      "metadata": {
        "id": "DN1wj6czf1OJ"
      },
      "source": [
        "Write a function called eval_loop that iteratively prompts the user, takes the resulting input and\n",
        "evaluates it using eval, and prints the result.<br>\n",
        "It should continue until the user enters 'done', and then return the value of the last expression it\n",
        "evaluated."
      ]
    },
    {
      "cell_type": "code",
      "metadata": {
        "id": "NPZ699bQf1OK",
        "colab": {
          "base_uri": "https://localhost:8080/"
        },
        "outputId": "e9cbaa54-7ed3-4006-be75-272e01812bd2"
      },
      "source": [
        "while True:\n",
        "  line = input('> ')\n",
        "  if line == 'done':\n",
        "    break\n",
        "  print(eval(line))\n"
      ],
      "execution_count": null,
      "outputs": [
        {
          "name": "stdout",
          "output_type": "stream",
          "text": [
            "> 3\n",
            "3\n",
            "> 3+3\n",
            "6\n",
            "> 4 - 5\n",
            "-1\n",
            "> 5 * 5\n",
            "25\n",
            "> done\n"
          ]
        }
      ]
    },
    {
      "cell_type": "markdown",
      "metadata": {
        "id": "XTaL082Jf1OK"
      },
      "source": [
        "4. Write a program that print the left half of a multiplication table as you see below. Use nested loops.<br>\n",
        "Hint 1: check out this page to learn how to format strings: https://www.geeksforgeeks.org/python-format-function/"
      ]
    },
    {
      "cell_type": "markdown",
      "metadata": {
        "id": "QPfsxRqTf1OL"
      },
      "source": [
        "![Multiplication%20table.png](https://mathequalslove.net/wp-content/uploads/2023/06/multiplication-chart-1-15-1024x787.png)"
      ]
    },
    {
      "cell_type": "code",
      "metadata": {
        "id": "5R7CC54df1OL",
        "colab": {
          "base_uri": "https://localhost:8080/"
        },
        "outputId": "75d6fa01-44e5-46ca-e593-4bad28ac86be"
      },
      "source": [
        "# prompt: Write a program that print the left half of a multiplication table. Use nested loops.\n",
        "\n",
        "for i in range(1, 11): # determines number of rows\n",
        "  for j in range(1, i + 1):  # determines number of columns\n",
        "      # i + 1 has the row number match the number of columns\n",
        "      # Ex: row 1 has 1 column, row 2 has 2 columns, etc.\n",
        "    print(f\"{i * j:3}\", end=\" \")\n",
        "      # j:3 makes sure the text is right-aligned with 3 spaces\n",
        "  print()\n"
      ],
      "execution_count": null,
      "outputs": [
        {
          "output_type": "stream",
          "name": "stdout",
          "text": [
            "  1 \n",
            "  2   4 \n",
            "  3   6   9 \n",
            "  4   8  12  16 \n",
            "  5  10  15  20  25 \n",
            "  6  12  18  24  30  36 \n",
            "  7  14  21  28  35  42  49 \n",
            "  8  16  24  32  40  48  56  64 \n",
            "  9  18  27  36  45  54  63  72  81 \n",
            " 10  20  30  40  50  60  70  80  90 100 \n"
          ]
        }
      ]
    },
    {
      "cell_type": "markdown",
      "metadata": {
        "id": "7bhzrgKgf1OL"
      },
      "source": [
        "5. Write a program to read in 10 numbers and compute the average, maximum and minimum values."
      ]
    },
    {
      "cell_type": "code",
      "metadata": {
        "id": "dZSkYMvwf1OM",
        "colab": {
          "base_uri": "https://localhost:8080/"
        },
        "outputId": "41f69664-8aab-4c17-f013-ea03b9f8a16a"
      },
      "source": [
        "def avg_max_min(num1, num2, num3, num4, num5, num6, num7, num8, num9, num10):\n",
        "  array = [num1, num2, num3, num4, num5, num6, num7, num8, num9, num10]\n",
        "  avg = 0\n",
        "  max = 0\n",
        "  min = num1\n",
        "\n",
        "  for i in array:\n",
        "    if i > max:\n",
        "      max = i\n",
        "    if i < min:\n",
        "      min = i\n",
        "    avg = avg + i\n",
        "\n",
        "  avg = avg / len(array)\n",
        "\n",
        "  print(\"Average:\", avg)\n",
        "  print(\"Max:\", max)\n",
        "  print(\"Min:\", min)\n",
        "\n",
        "avg_max_min(1, 2, 3, 4, 5, 6, 7, 8, 9, 10)\n",
        "\n"
      ],
      "execution_count": null,
      "outputs": [
        {
          "output_type": "stream",
          "name": "stdout",
          "text": [
            "Average: 5.5\n",
            "Max: 10\n",
            "Min: 1\n"
          ]
        }
      ]
    }
  ]
}
