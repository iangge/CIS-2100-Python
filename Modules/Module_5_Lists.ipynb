{
  "nbformat": 4,
  "nbformat_minor": 0,
  "metadata": {
    "kernelspec": {
      "display_name": "Python 3",
      "language": "python",
      "name": "python3"
    },
    "language_info": {
      "codemirror_mode": {
        "name": "ipython",
        "version": 3
      },
      "file_extension": ".py",
      "mimetype": "text/x-python",
      "name": "python",
      "nbconvert_exporter": "python",
      "pygments_lexer": "ipython3",
      "version": "3.6.5"
    },
    "colab": {
      "provenance": []
    }
  },
  "cells": [
    {
      "cell_type": "markdown",
      "metadata": {
        "id": "k-Nwr-DW2G-4"
      },
      "source": [
        "# CIS 2100 - Programming Foundation for Business Analytics\n",
        "# Dr. Marjan Orang\n",
        "# Module 5: Lists"
      ]
    },
    {
      "cell_type": "markdown",
      "metadata": {
        "id": "FwpMEJln2G_E"
      },
      "source": [
        "A list is a sequence of values. There are several ways to create a new list; the simplest is to enclose the elements in square brackets ([ and ]):"
      ]
    },
    {
      "cell_type": "code",
      "metadata": {
        "id": "8_OiOu2K2G_G",
        "colab": {
          "base_uri": "https://localhost:8080/"
        },
        "outputId": "9fcf3c23-e9f9-42d7-965b-4cda4f3a5c21"
      },
      "source": [
        "a = [1, 2, 3, 4]\n",
        "a"
      ],
      "execution_count": null,
      "outputs": [
        {
          "output_type": "execute_result",
          "data": {
            "text/plain": [
              "[1, 2, 3, 4]"
            ]
          },
          "metadata": {},
          "execution_count": 1
        }
      ]
    },
    {
      "cell_type": "code",
      "metadata": {
        "id": "IHDUe2a82G_I",
        "colab": {
          "base_uri": "https://localhost:8080/"
        },
        "outputId": "15098158-1a55-45dc-ca87-ce53b5bef2c1"
      },
      "source": [
        "a = ['frog', 'horse', 'cat', 'dog']\n",
        "a"
      ],
      "execution_count": null,
      "outputs": [
        {
          "output_type": "execute_result",
          "data": {
            "text/plain": [
              "['frog', 'horse', 'cat', 'dog']"
            ]
          },
          "metadata": {},
          "execution_count": 2
        }
      ]
    },
    {
      "cell_type": "markdown",
      "metadata": {
        "id": "wkhDiNwR2G_K"
      },
      "source": [
        "List items do not have to be homogenous."
      ]
    },
    {
      "cell_type": "code",
      "metadata": {
        "id": "gt8-lsYP2G_L",
        "colab": {
          "base_uri": "https://localhost:8080/"
        },
        "outputId": "e75fdde5-f7b8-4d99-ccca-cfc93bb7b6ea"
      },
      "source": [
        "a = [1, 2.0, False, 'hi']\n",
        "a"
      ],
      "execution_count": null,
      "outputs": [
        {
          "output_type": "execute_result",
          "data": {
            "text/plain": [
              "[1, 2.0, False, 'hi']"
            ]
          },
          "metadata": {},
          "execution_count": 3
        }
      ]
    },
    {
      "cell_type": "markdown",
      "metadata": {
        "id": "1nxsVEVK2G_M"
      },
      "source": [
        "## Class exercise\n",
        "Create a list named letters that contains characters a, b, and c."
      ]
    },
    {
      "cell_type": "code",
      "metadata": {
        "id": "EbOqYQCJ2G_N",
        "colab": {
          "base_uri": "https://localhost:8080/"
        },
        "outputId": "b60d1afe-dce1-409e-c64a-f953047dfb33"
      },
      "source": [
        "letters = ['a', 'b', 'c']\n",
        "letters"
      ],
      "execution_count": null,
      "outputs": [
        {
          "output_type": "execute_result",
          "data": {
            "text/plain": [
              "['a', 'b', 'c']"
            ]
          },
          "metadata": {},
          "execution_count": 4
        }
      ]
    },
    {
      "cell_type": "markdown",
      "metadata": {
        "id": "HO6H2PiE2G_N"
      },
      "source": [
        "A list within another list is nested."
      ]
    },
    {
      "cell_type": "code",
      "metadata": {
        "id": "Hmd5gDa12G_P",
        "colab": {
          "base_uri": "https://localhost:8080/"
        },
        "outputId": "2c1837c2-1099-4b85-8560-dd1de0c65eaf"
      },
      "source": [
        "a = [1, 2.0, False, 'hi', [10, 20]]\n",
        "a"
      ],
      "execution_count": null,
      "outputs": [
        {
          "output_type": "execute_result",
          "data": {
            "text/plain": [
              "[1, 2.0, False, 'hi', [10, 20]]"
            ]
          },
          "metadata": {},
          "execution_count": 1
        }
      ]
    },
    {
      "cell_type": "markdown",
      "metadata": {
        "id": "mdCVvsaR2G_P"
      },
      "source": [
        "The built-in len function returns the length of a list."
      ]
    },
    {
      "cell_type": "code",
      "metadata": {
        "id": "su4vNTJT2G_Q",
        "colab": {
          "base_uri": "https://localhost:8080/"
        },
        "outputId": "c13b8e59-e142-476e-aa7e-129be3d060ce"
      },
      "source": [
        "len(a)"
      ],
      "execution_count": null,
      "outputs": [
        {
          "output_type": "execute_result",
          "data": {
            "text/plain": [
              "5"
            ]
          },
          "metadata": {},
          "execution_count": 2
        }
      ]
    },
    {
      "cell_type": "markdown",
      "metadata": {
        "id": "mCzfU3dv2G_R"
      },
      "source": [
        "\\A list that contains no elements is called an empty list; you can create one with empty\n",
        "brackets, []."
      ]
    },
    {
      "cell_type": "code",
      "metadata": {
        "id": "7b5EJzr52G_S"
      },
      "source": [
        "a = []\n",
        "a"
      ],
      "execution_count": null,
      "outputs": []
    },
    {
      "cell_type": "markdown",
      "metadata": {
        "id": "qC_zaj3x2G_S"
      },
      "source": [
        "# Lists are mutable\n",
        "The syntax for accessing the elements of a list is the bracket operator. The expression inside the brackets specifies the index.\n",
        "Remember that the indices start at 0."
      ]
    },
    {
      "cell_type": "code",
      "metadata": {
        "id": "scpFDIyE2G_T",
        "colab": {
          "base_uri": "https://localhost:8080/"
        },
        "outputId": "0544f09d-02fa-4b73-e886-0472bf3cae9f"
      },
      "source": [
        "cheeses = ['Cheddar', 'Edam', 'Gouda']\n",
        "numbers = [42, 123]\n",
        "print(cheeses[0])\n",
        "print(numbers[1])"
      ],
      "execution_count": null,
      "outputs": [
        {
          "output_type": "stream",
          "name": "stdout",
          "text": [
            "Cheddar\n",
            "123\n"
          ]
        }
      ]
    },
    {
      "cell_type": "code",
      "metadata": {
        "id": "lyzTWljR2G_U",
        "colab": {
          "base_uri": "https://localhost:8080/"
        },
        "outputId": "85875f38-ae8c-4a54-d930-36861556a2f5"
      },
      "source": [
        "cheeses[1] = 'Pepper Jack'\n",
        "cheeses"
      ],
      "execution_count": null,
      "outputs": [
        {
          "output_type": "execute_result",
          "data": {
            "text/plain": [
              "['Cheddar', 'Pepper Jack', 'Gouda']"
            ]
          },
          "metadata": {},
          "execution_count": 3
        }
      ]
    },
    {
      "cell_type": "code",
      "metadata": {
        "id": "OcLCOsM82G_V",
        "colab": {
          "base_uri": "https://localhost:8080/"
        },
        "outputId": "8294ee83-afca-4b34-eb26-ee8d598e24b9"
      },
      "source": [
        "numbers[0] = 10\n",
        "numbers"
      ],
      "execution_count": null,
      "outputs": [
        {
          "output_type": "execute_result",
          "data": {
            "text/plain": [
              "[10, 123]"
            ]
          },
          "metadata": {},
          "execution_count": 4
        }
      ]
    },
    {
      "cell_type": "markdown",
      "metadata": {
        "id": "rL1-ap-Q2G_V"
      },
      "source": [
        "# The in operator\n",
        "Examines if a value exists in the list."
      ]
    },
    {
      "cell_type": "code",
      "metadata": {
        "id": "6kuD8xMx2G_V",
        "colab": {
          "base_uri": "https://localhost:8080/"
        },
        "outputId": "f787234d-a31c-42c4-ea3d-085524c70ed7"
      },
      "source": [
        "'Edam' in cheeses"
      ],
      "execution_count": null,
      "outputs": [
        {
          "output_type": "execute_result",
          "data": {
            "text/plain": [
              "False"
            ]
          },
          "metadata": {},
          "execution_count": 5
        }
      ]
    },
    {
      "cell_type": "code",
      "metadata": {
        "id": "wKNc992B2G_W",
        "colab": {
          "base_uri": "https://localhost:8080/"
        },
        "outputId": "8e42d70f-6477-4aae-e14a-00df2ca98045"
      },
      "source": [
        "'Brie' in cheeses"
      ],
      "execution_count": null,
      "outputs": [
        {
          "output_type": "execute_result",
          "data": {
            "text/plain": [
              "False"
            ]
          },
          "metadata": {},
          "execution_count": 6
        }
      ]
    },
    {
      "cell_type": "markdown",
      "metadata": {
        "id": "38ffE-Da2G_W"
      },
      "source": [
        "# Traversing a list\n",
        "The most common way to traverse the elements of a list is with a for loop."
      ]
    },
    {
      "cell_type": "code",
      "metadata": {
        "id": "w09WwxSV2G_X",
        "colab": {
          "base_uri": "https://localhost:8080/"
        },
        "outputId": "42cf27a0-28c5-48dc-f88a-30768a6f66d6"
      },
      "source": [
        "for x in cheeses:\n",
        "    print(x)"
      ],
      "execution_count": null,
      "outputs": [
        {
          "output_type": "stream",
          "name": "stdout",
          "text": [
            "Cheddar\n",
            "Pepper Jack\n",
            "Gouda\n"
          ]
        }
      ]
    },
    {
      "cell_type": "markdown",
      "metadata": {
        "id": "tMzP8KqR2G_X"
      },
      "source": [
        "This works well if you only need to read the elements of the list. But if you want to write\n",
        "or update the elements, you need the indices. A common way to do that is to combine the\n",
        "built-in functions range and len:"
      ]
    },
    {
      "cell_type": "code",
      "metadata": {
        "id": "j14gmwtU2G_Y",
        "colab": {
          "base_uri": "https://localhost:8080/"
        },
        "outputId": "54ae459a-dc6e-47d8-db6a-4625365d1781"
      },
      "source": [
        "len(cheeses)"
      ],
      "execution_count": null,
      "outputs": [
        {
          "output_type": "execute_result",
          "data": {
            "text/plain": [
              "3"
            ]
          },
          "metadata": {},
          "execution_count": 9
        }
      ]
    },
    {
      "cell_type": "code",
      "metadata": {
        "id": "yOp4zOQN2G_Y",
        "colab": {
          "base_uri": "https://localhost:8080/"
        },
        "outputId": "272a0ebc-f825-42eb-df9b-09a25b207038"
      },
      "source": [
        "for i in range(len(cheeses)):\n",
        "    print(cheeses[i])"
      ],
      "execution_count": null,
      "outputs": [
        {
          "output_type": "stream",
          "name": "stdout",
          "text": [
            "Cheddar\n",
            "Pepper Jack\n",
            "Gouda\n"
          ]
        }
      ]
    },
    {
      "cell_type": "code",
      "metadata": {
        "id": "1vjve0Wo2G_Z",
        "colab": {
          "base_uri": "https://localhost:8080/"
        },
        "outputId": "39b865fb-3a1a-484d-b925-f7c9a774fc91"
      },
      "source": [
        "for i in range(len(numbers)):\n",
        "    numbers[i] = numbers[i] * 2\n",
        "numbers"
      ],
      "execution_count": null,
      "outputs": [
        {
          "output_type": "execute_result",
          "data": {
            "text/plain": [
              "[20, 246]"
            ]
          },
          "metadata": {},
          "execution_count": 11
        }
      ]
    },
    {
      "cell_type": "markdown",
      "metadata": {
        "id": "adoK7ZaQ2G_Z"
      },
      "source": [
        "# List operations\n",
        "The + operator concatenates lists."
      ]
    },
    {
      "cell_type": "code",
      "metadata": {
        "id": "rOGn_w6q2G_Z"
      },
      "source": [
        "a = [1, 2, 3]\n",
        "b = [4, 5, 6]\n",
        "c = a + b\n",
        "c"
      ],
      "execution_count": null,
      "outputs": []
    },
    {
      "cell_type": "markdown",
      "metadata": {
        "id": "5Imm7OQR2G_b"
      },
      "source": [
        "The * operator repeats a list a given number of times:"
      ]
    },
    {
      "cell_type": "code",
      "metadata": {
        "id": "VmIp5wEo2G_c"
      },
      "source": [
        "g = [0] * 4\n",
        "print(g)\n",
        "[1, 2, 3] * 3"
      ],
      "execution_count": null,
      "outputs": []
    },
    {
      "cell_type": "markdown",
      "metadata": {
        "id": "8jv-kyHl2G_d"
      },
      "source": [
        "## List slices\n",
        "You can slice lists by specifying start and end indexes. Note that the end index is excluded."
      ]
    },
    {
      "cell_type": "code",
      "metadata": {
        "id": "LYjZ0zi-2G_d",
        "colab": {
          "base_uri": "https://localhost:8080/"
        },
        "outputId": "047df72a-de0e-41f5-cbf4-d610f9885f30"
      },
      "source": [
        "a = [1, 2, 3, 4, 5, 6, 7, 8]\n",
        "a[2:5]"
      ],
      "execution_count": null,
      "outputs": [
        {
          "output_type": "execute_result",
          "data": {
            "text/plain": [
              "[3, 4, 5]"
            ]
          },
          "metadata": {},
          "execution_count": 10
        }
      ]
    },
    {
      "cell_type": "markdown",
      "metadata": {
        "id": "CNg0Bf3m2G_d"
      },
      "source": [
        "If you leave the start index empty, slicing begins at index zero."
      ]
    },
    {
      "cell_type": "code",
      "metadata": {
        "id": "0v4NB4bv2G_d",
        "colab": {
          "base_uri": "https://localhost:8080/"
        },
        "outputId": "7d520324-7fd6-4704-ca9b-e240c5db1b5a"
      },
      "source": [
        "a[:5]"
      ],
      "execution_count": null,
      "outputs": [
        {
          "output_type": "execute_result",
          "data": {
            "text/plain": [
              "[1, 2, 3, 4, 5]"
            ]
          },
          "metadata": {},
          "execution_count": 11
        }
      ]
    },
    {
      "cell_type": "markdown",
      "metadata": {
        "id": "xozuHTWS2G_f"
      },
      "source": [
        "If you leave the end index empty, slicing ends at the end of the list."
      ]
    },
    {
      "cell_type": "code",
      "metadata": {
        "id": "qhbUoWPI2G_f",
        "colab": {
          "base_uri": "https://localhost:8080/"
        },
        "outputId": "8722a4bd-30c2-4384-cdda-ec04c04d0b48"
      },
      "source": [
        "a[4:]"
      ],
      "execution_count": null,
      "outputs": [
        {
          "output_type": "execute_result",
          "data": {
            "text/plain": [
              "[5, 6, 7, 8]"
            ]
          },
          "metadata": {},
          "execution_count": 12
        }
      ]
    },
    {
      "cell_type": "markdown",
      "metadata": {
        "id": "C-rDkiga2G_f"
      },
      "source": [
        "A negative index is calculated from the end of the list. The following excludes the last 2 elements of the list."
      ]
    },
    {
      "cell_type": "code",
      "metadata": {
        "id": "XM_OcN3q2G_g",
        "colab": {
          "base_uri": "https://localhost:8080/"
        },
        "outputId": "9c81bf71-ef7e-4d34-9189-cb85fceba76d"
      },
      "source": [
        "a[:-2]"
      ],
      "execution_count": null,
      "outputs": [
        {
          "output_type": "execute_result",
          "data": {
            "text/plain": [
              "[1, 2, 3, 4, 5, 6]"
            ]
          },
          "metadata": {},
          "execution_count": 13
        }
      ]
    },
    {
      "cell_type": "markdown",
      "metadata": {
        "id": "BdovPRkp2G_g"
      },
      "source": [
        "The following slices the last 3 elements."
      ]
    },
    {
      "cell_type": "code",
      "metadata": {
        "id": "g5HXZD9d2G_g",
        "colab": {
          "base_uri": "https://localhost:8080/"
        },
        "outputId": "548efd8c-ff17-46ea-cb8e-01e2e7bf2a72"
      },
      "source": [
        "a[-3:]"
      ],
      "execution_count": null,
      "outputs": [
        {
          "output_type": "execute_result",
          "data": {
            "text/plain": [
              "[6, 7, 8]"
            ]
          },
          "metadata": {},
          "execution_count": 14
        }
      ]
    },
    {
      "cell_type": "markdown",
      "metadata": {
        "id": "cWymC-2g2G_g"
      },
      "source": [
        "The third parameter specifies the step size which has a default value of 1."
      ]
    },
    {
      "cell_type": "code",
      "metadata": {
        "id": "Gn4L25GW2G_g",
        "colab": {
          "base_uri": "https://localhost:8080/"
        },
        "outputId": "71534e96-98c3-42e4-9896-f33202d369c8"
      },
      "source": [
        "a[0:7:2]"
      ],
      "execution_count": null,
      "outputs": [
        {
          "output_type": "execute_result",
          "data": {
            "text/plain": [
              "[1, 3, 5, 7]"
            ]
          },
          "metadata": {},
          "execution_count": 15
        }
      ]
    },
    {
      "cell_type": "markdown",
      "metadata": {
        "id": "G9qSf04Q2G_g"
      },
      "source": [
        "If the step size is negative, slicing will be done in revrese order."
      ]
    },
    {
      "cell_type": "code",
      "metadata": {
        "id": "FuwFBPpw2G_h",
        "colab": {
          "base_uri": "https://localhost:8080/"
        },
        "outputId": "93212866-0008-4658-faac-7a968aec2b23"
      },
      "source": [
        "a[::-1]"
      ],
      "execution_count": null,
      "outputs": [
        {
          "output_type": "execute_result",
          "data": {
            "text/plain": [
              "[8, 7, 6, 5, 4, 3, 2, 1]"
            ]
          },
          "metadata": {},
          "execution_count": 16
        }
      ]
    },
    {
      "cell_type": "markdown",
      "metadata": {
        "id": "OtGnDECG2G_h"
      },
      "source": [
        "Below we use -2 as step size to slice even values in reverse order."
      ]
    },
    {
      "cell_type": "code",
      "metadata": {
        "id": "ylLBrUfy2G_h",
        "colab": {
          "base_uri": "https://localhost:8080/"
        },
        "outputId": "34394695-e0a5-444f-972c-60e989ab3225"
      },
      "source": [
        "a[::-2]"
      ],
      "execution_count": null,
      "outputs": [
        {
          "output_type": "execute_result",
          "data": {
            "text/plain": [
              "[8, 6, 4, 2]"
            ]
          },
          "metadata": {},
          "execution_count": 17
        }
      ]
    },
    {
      "cell_type": "markdown",
      "metadata": {
        "id": "leZLCY7m2G_h"
      },
      "source": [
        "Reverse slicing odd values."
      ]
    },
    {
      "cell_type": "code",
      "metadata": {
        "id": "duSXcMJW2G_i",
        "colab": {
          "base_uri": "https://localhost:8080/"
        },
        "outputId": "02fe9a42-30e2-4b12-8be3-9b62be2bac8c"
      },
      "source": [
        "a[-2::-2]"
      ],
      "execution_count": null,
      "outputs": [
        {
          "output_type": "execute_result",
          "data": {
            "text/plain": [
              "[7, 5, 3, 1]"
            ]
          },
          "metadata": {},
          "execution_count": 18
        }
      ]
    },
    {
      "cell_type": "markdown",
      "metadata": {
        "id": "UxZR3hs22G_j"
      },
      "source": [
        "You can use slicing to replace values in a list."
      ]
    },
    {
      "cell_type": "code",
      "metadata": {
        "id": "yeK78V8I2G_k",
        "colab": {
          "base_uri": "https://localhost:8080/"
        },
        "outputId": "4df9fb9e-0296-42f6-a72a-01cf20cad86c"
      },
      "source": [
        "t = ['a', 'b', 'c', 'd', 'e', 'f']\n",
        "t[1:3] = ['x', 'y']\n",
        "t"
      ],
      "execution_count": null,
      "outputs": [
        {
          "output_type": "execute_result",
          "data": {
            "text/plain": [
              "['a', 'x', 'y', 'd', 'e', 'f']"
            ]
          },
          "metadata": {},
          "execution_count": 19
        }
      ]
    },
    {
      "cell_type": "markdown",
      "metadata": {
        "id": "7forVTFp2G_k"
      },
      "source": [
        "# Class exercise\n",
        "Write a function that returns the middle element of any list assuming that the list has an odd number of elements."
      ]
    },
    {
      "cell_type": "code",
      "metadata": {
        "id": "xb_u-CKU2G_l",
        "colab": {
          "base_uri": "https://localhost:8080/"
        },
        "outputId": "63fdb380-229a-4d4e-f65d-5c6a7c217a3c"
      },
      "source": [
        "def middle(t):\n",
        "  middle_element = len(t) // 2\n",
        "  return t[middle_element]\n",
        "\n",
        "middle([1,2,3,4,5])"
      ],
      "execution_count": null,
      "outputs": [
        {
          "output_type": "execute_result",
          "data": {
            "text/plain": [
              "3"
            ]
          },
          "metadata": {},
          "execution_count": 1
        }
      ]
    },
    {
      "cell_type": "markdown",
      "metadata": {
        "id": "w35CC7bb2G_l"
      },
      "source": [
        "# Class exercise\n",
        "Write a function that returns the average of the 2 middle elements of any list assuming that the list has an even number of elements."
      ]
    },
    {
      "cell_type": "code",
      "metadata": {
        "id": "GD6X_z4P2G_l",
        "colab": {
          "base_uri": "https://localhost:8080/"
        },
        "outputId": "b0f1f70a-e2db-40c3-cbac-c7cb2901976a"
      },
      "source": [
        "def even_middle(t):\n",
        "  middle_element = len(t) // 2\n",
        "  return (t[middle_element] + t[middle_element - 1]) / 2\n",
        "\n",
        "even_middle([1,2,3,4,5,6])"
      ],
      "execution_count": null,
      "outputs": [
        {
          "output_type": "execute_result",
          "data": {
            "text/plain": [
              "3.5"
            ]
          },
          "metadata": {},
          "execution_count": 3
        }
      ]
    },
    {
      "cell_type": "markdown",
      "metadata": {
        "id": "7w6Iumlx2G_m"
      },
      "source": [
        "## List methods\n",
        "Python provides methods that operate on lists. For example, append adds a new element\n",
        "to the end of a list:"
      ]
    },
    {
      "cell_type": "code",
      "metadata": {
        "id": "JrI6s_0o2G_m",
        "colab": {
          "base_uri": "https://localhost:8080/"
        },
        "outputId": "06c4ac66-7b61-420a-d5d2-aa3cfc03a485"
      },
      "source": [
        "t = ['a', 'b', 'c']\n",
        "t.append('d')\n",
        "t"
      ],
      "execution_count": null,
      "outputs": [
        {
          "output_type": "execute_result",
          "data": {
            "text/plain": [
              "['a', 'b', 'c', 'd']"
            ]
          },
          "metadata": {},
          "execution_count": 20
        }
      ]
    },
    {
      "cell_type": "markdown",
      "metadata": {
        "id": "uW5RN3pn2G_n"
      },
      "source": [
        "extend takes a list as an argument and appends all of the elements. This example leaves t2 unmodified."
      ]
    },
    {
      "cell_type": "code",
      "metadata": {
        "id": "mzvzi7an2G_n",
        "colab": {
          "base_uri": "https://localhost:8080/"
        },
        "outputId": "515797c7-4730-41d7-8c2f-3e5fa614cc4c"
      },
      "source": [
        "t1 = ['a', 'b', 'c']\n",
        "t2 = ['d', 'e']\n",
        "t1.extend(t2)\n",
        "t1"
      ],
      "execution_count": null,
      "outputs": [
        {
          "output_type": "execute_result",
          "data": {
            "text/plain": [
              "['a', 'b', 'c', 'd', 'e']"
            ]
          },
          "metadata": {},
          "execution_count": 21
        }
      ]
    },
    {
      "cell_type": "markdown",
      "metadata": {
        "id": "ETMfsCmF2G_n"
      },
      "source": [
        "sort arranges the elements of the list from low to high:"
      ]
    },
    {
      "cell_type": "code",
      "metadata": {
        "id": "T4TKoR-V2G_o",
        "colab": {
          "base_uri": "https://localhost:8080/"
        },
        "outputId": "5c57bb70-035e-49ed-8384-ec05313f4cb3"
      },
      "source": [
        "t = ['d', 'c', 'e', 'b', 'a']\n",
        "t.sort()\n",
        "t"
      ],
      "execution_count": null,
      "outputs": [
        {
          "output_type": "execute_result",
          "data": {
            "text/plain": [
              "['a', 'b', 'c', 'd', 'e']"
            ]
          },
          "metadata": {},
          "execution_count": 22
        }
      ]
    },
    {
      "cell_type": "markdown",
      "metadata": {
        "id": "L4OewwFr2G_o"
      },
      "source": [
        "Most list methods are void; they modify the list and return None. If you accidentally write\n",
        "t = t.sort(), you will be disappointed with the result."
      ]
    },
    {
      "cell_type": "code",
      "metadata": {
        "id": "mCNKnd1f2G_p",
        "colab": {
          "base_uri": "https://localhost:8080/"
        },
        "outputId": "d9571685-a76e-4569-e1ed-07994814d565"
      },
      "source": [
        "t = t.sort()\n",
        "print(t)"
      ],
      "execution_count": null,
      "outputs": [
        {
          "output_type": "stream",
          "name": "stdout",
          "text": [
            "None\n"
          ]
        }
      ]
    },
    {
      "cell_type": "markdown",
      "metadata": {
        "id": "IHJPsxj62G_p"
      },
      "source": [
        "\n",
        "index function returns zero-based index in the list of the first item whose value is equal to x. it raises a ValueError if there is no such item."
      ]
    },
    {
      "cell_type": "code",
      "metadata": {
        "id": "NYQ18nYv2G_q",
        "colab": {
          "base_uri": "https://localhost:8080/"
        },
        "outputId": "8ec865c1-ec27-4067-c80f-dacaab750c49"
      },
      "source": [
        "x = ['a', 'b', 'c', 'd', 'e']\n",
        "x.index('c')"
      ],
      "execution_count": null,
      "outputs": [
        {
          "output_type": "execute_result",
          "data": {
            "text/plain": [
              "2"
            ]
          },
          "metadata": {},
          "execution_count": 5
        }
      ]
    },
    {
      "cell_type": "code",
      "metadata": {
        "id": "HUbBBL_D2G_q",
        "colab": {
          "base_uri": "https://localhost:8080/",
          "height": 141
        },
        "outputId": "6dc5571f-a7ea-4a7e-f555-8ea4e5dffc16"
      },
      "source": [
        "x.index('f')"
      ],
      "execution_count": null,
      "outputs": [
        {
          "output_type": "error",
          "ename": "ValueError",
          "evalue": "'f' is not in list",
          "traceback": [
            "\u001b[0;31m---------------------------------------------------------------------------\u001b[0m",
            "\u001b[0;31mValueError\u001b[0m                                Traceback (most recent call last)",
            "\u001b[0;32m<ipython-input-7-c88260ce0cce>\u001b[0m in \u001b[0;36m<cell line: 0>\u001b[0;34m()\u001b[0m\n\u001b[0;32m----> 1\u001b[0;31m \u001b[0mx\u001b[0m\u001b[0;34m.\u001b[0m\u001b[0mindex\u001b[0m\u001b[0;34m(\u001b[0m\u001b[0;34m'f'\u001b[0m\u001b[0;34m)\u001b[0m\u001b[0;34m\u001b[0m\u001b[0;34m\u001b[0m\u001b[0m\n\u001b[0m",
            "\u001b[0;31mValueError\u001b[0m: 'f' is not in list"
          ]
        }
      ]
    },
    {
      "cell_type": "markdown",
      "metadata": {
        "id": "5KOOYb0n2G_s"
      },
      "source": [
        "## Map, filter and reduce\n",
        "To add up all the numbers in a list, you can use a loop like this. Note that we use the 'list' keyword to create a list."
      ]
    },
    {
      "cell_type": "code",
      "metadata": {
        "id": "VWeBGRZo2G_t",
        "colab": {
          "base_uri": "https://localhost:8080/"
        },
        "outputId": "dafa2981-9f15-48bb-e4bb-e52366a924ed"
      },
      "source": [
        "t = list(range(1,10))\n",
        "def add_all(t):\n",
        "    total = 0\n",
        "    for x in t:\n",
        "        total += x\n",
        "    return total\n",
        "add_all(t)"
      ],
      "execution_count": null,
      "outputs": [
        {
          "output_type": "execute_result",
          "data": {
            "text/plain": [
              "45"
            ]
          },
          "metadata": {},
          "execution_count": 8
        }
      ]
    },
    {
      "cell_type": "markdown",
      "metadata": {
        "id": "37mCz11h2G_u"
      },
      "source": [
        "You can also use built-in Python functions:"
      ]
    },
    {
      "cell_type": "code",
      "metadata": {
        "id": "PH3iFmh42G_u"
      },
      "source": [
        "sum(t)"
      ],
      "execution_count": null,
      "outputs": []
    },
    {
      "cell_type": "code",
      "metadata": {
        "id": "xLpwVGzD2G_v"
      },
      "source": [
        "max(t)"
      ],
      "execution_count": null,
      "outputs": []
    },
    {
      "cell_type": "code",
      "metadata": {
        "id": "q1Yo8y282G_v"
      },
      "source": [
        "min(t)"
      ],
      "execution_count": null,
      "outputs": []
    },
    {
      "cell_type": "markdown",
      "metadata": {
        "id": "2o1hOB1I2G_w"
      },
      "source": [
        "Use 'sorted' built-in function to get a sorted copy of the argument withou modifying the input value."
      ]
    },
    {
      "cell_type": "code",
      "metadata": {
        "id": "IJUe7Z0Y2G_w",
        "colab": {
          "base_uri": "https://localhost:8080/"
        },
        "outputId": "0b6fb176-c648-4048-de73-eb358d8a98aa"
      },
      "source": [
        "x=[11,3,7,22,5]\n",
        "y = sorted(x)\n",
        "print(y)\n",
        "print(x)"
      ],
      "execution_count": null,
      "outputs": [
        {
          "output_type": "stream",
          "name": "stdout",
          "text": [
            "[3, 5, 7, 11, 22]\n",
            "[11, 3, 7, 22, 5]\n"
          ]
        }
      ]
    },
    {
      "cell_type": "markdown",
      "metadata": {
        "id": "l0Yc4WuN2G_x"
      },
      "source": [
        "Sometimes you want to traverse one list while building another. For example, the following\n",
        "function takes a list of number and returns a new list that contains squared values."
      ]
    },
    {
      "cell_type": "code",
      "metadata": {
        "id": "Maiedx9_2G_x"
      },
      "source": [
        "def square(t):\n",
        "    res = []\n",
        "    for element in t:\n",
        "        res.append(element**2)\n",
        "    return res\n",
        "t = list(range(1,10))\n",
        "square(t)"
      ],
      "execution_count": null,
      "outputs": []
    },
    {
      "cell_type": "markdown",
      "metadata": {
        "id": "egA9BjAo2G_y"
      },
      "source": [
        "# Class exercise\n",
        "Write a function that takes a list of number and returns a new list that contains absolute values of the input list."
      ]
    },
    {
      "cell_type": "code",
      "metadata": {
        "id": "OSw5ffUS2G_y",
        "colab": {
          "base_uri": "https://localhost:8080/"
        },
        "outputId": "a0a0130c-299b-4253-b390-8d6582bb12e5"
      },
      "source": [
        "def abs_value(t):\n",
        "  res = []\n",
        "  for element in t:\n",
        "    res.append(abs(element))\n",
        "  return res\n",
        "t = [-1,2,-3,4,-5]\n",
        "abs_value(t)"
      ],
      "execution_count": null,
      "outputs": [
        {
          "output_type": "execute_result",
          "data": {
            "text/plain": [
              "[1, 2, 3, 4, 5]"
            ]
          },
          "metadata": {},
          "execution_count": 12
        }
      ]
    },
    {
      "cell_type": "markdown",
      "metadata": {
        "id": "5g75tw0a2G_y"
      },
      "source": [
        "## Deleting elements\n",
        "There are several ways to delete elements from a list. If you know the index of the element\n",
        "you want, you can use pop:"
      ]
    },
    {
      "cell_type": "code",
      "metadata": {
        "id": "cTWvbEsM2G_y",
        "colab": {
          "base_uri": "https://localhost:8080/"
        },
        "outputId": "70b79c38-f7a0-4be1-de04-5a4c4cc786ec"
      },
      "source": [
        "t = ['a', 'b', 'c']\n",
        "x = t.pop(1)\n",
        "print(t)\n",
        "print(x)"
      ],
      "execution_count": null,
      "outputs": [
        {
          "output_type": "stream",
          "name": "stdout",
          "text": [
            "['a', 'c']\n",
            "b\n"
          ]
        }
      ]
    },
    {
      "cell_type": "markdown",
      "metadata": {
        "id": "ujiaYQDj2G_z"
      },
      "source": [
        "If you don’t need the removed value, you can use the del operator:"
      ]
    },
    {
      "cell_type": "code",
      "metadata": {
        "id": "vDNmmtET2G_z"
      },
      "source": [
        "t = ['a', 'b', 'c']\n",
        "del t[1]\n",
        "t"
      ],
      "execution_count": null,
      "outputs": []
    },
    {
      "cell_type": "markdown",
      "metadata": {
        "id": "JdgquTSx2G_0"
      },
      "source": [
        "To remove more than one element, you can use del with a slice index:"
      ]
    },
    {
      "cell_type": "code",
      "metadata": {
        "id": "cExwfdrl2G_0"
      },
      "source": [
        "t = ['a', 'b', 'c', 'd', 'e', 'f']\n",
        "del t[1:5]\n",
        "t"
      ],
      "execution_count": null,
      "outputs": []
    },
    {
      "cell_type": "markdown",
      "metadata": {
        "id": "zNK7KhPl2G_0"
      },
      "source": [
        "You can also delete the entire list using del keyword to free up memory."
      ]
    },
    {
      "cell_type": "code",
      "metadata": {
        "id": "Qx-L_Bef2G_1"
      },
      "source": [
        "del t\n",
        "t"
      ],
      "execution_count": null,
      "outputs": []
    },
    {
      "cell_type": "markdown",
      "metadata": {
        "id": "XtukXoF32G_1"
      },
      "source": [
        "## List arguments\n",
        "Since lists are mutable, if you pass a list to a function and the function modifies it, the original list will be modified."
      ]
    },
    {
      "cell_type": "code",
      "metadata": {
        "id": "cdj7QbjZ2G_1"
      },
      "source": [
        "def delete_head(t):\n",
        "    del t[0]\n",
        "letters = ['a', 'b', 'c']\n",
        "delete_head(letters)\n",
        "letters"
      ],
      "execution_count": null,
      "outputs": []
    },
    {
      "cell_type": "code",
      "metadata": {
        "id": "skZDlIGV2G_2"
      },
      "source": [],
      "execution_count": null,
      "outputs": []
    }
  ]
}